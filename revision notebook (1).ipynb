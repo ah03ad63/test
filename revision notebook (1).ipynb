{
 "cells": [
  {
   "cell_type": "code",
   "execution_count": 4,
   "metadata": {},
   "outputs": [
    {
     "name": "stdout",
     "output_type": "stream",
     "text": [
      "5 *4 *3 *2 *1\n"
     ]
    }
   ],
   "source": [
    "# linear search\n",
    "def s1(nums, target): #naive solution worst case runtime analysis\n",
    "    for ind, num in enumerate(nums): #this statement takes c1 operation\n",
    "        # which will be executed n times where n is len(nums) \n",
    "        if num >= target: # it takes c2 which will be executed n times where n is len(nums) \n",
    "            return ind # it will takes c3 which will be executed once  \n",
    "        # run time T(n)= c1n+c2n+c3 = (c1+c2)n +c3 = mn +i \n",
    "        # slope m =c1+c2, intercepted part i = c3\n",
    "     # c1,c2,c3 are arbitary constants we don't care for as we want the eq to be machinagnostic"
   ]
  },
  {
   "cell_type": "code",
   "execution_count": null,
   "metadata": {},
   "outputs": [],
   "source": [
    "#binary search\n",
    "def s2(nums, target): #efficient solution worst case runtime analysis\n",
    "    l,r =0,len(nums)         # it is 2 assignment statments then c1*2\n",
    "    while l<r:               # c2 *log base2 (n) \n",
    "        mid= (l+r)//2        # c3 *log base2 (n) \n",
    "        if nums[mid]<target: # c4 *log base2 (n) \n",
    "            l=mid+1          # c5 *log base2 (n) if executed\n",
    "        else:\n",
    "            r =mid           # c5 *log base2 (n) if executed\n",
    "    return l                 # c6 *1\n",
    " # c1+c6= i1 , c2+c3+c4+c5=m1\n",
    " # run time T(n)=m1*log base2 (n) +i1\n",
    "  \n",
    "\n",
    "def searchInsert(self,nums,target):\n",
    "    \"\"\"\n",
    "    :type nums: list[int]\n",
    "    : type target : int\n",
    "    :rtype: int\n",
    "    \"\"\"\n",
    "    def bin_search(l,r): \n",
    "        if l==r:     #>> c1\n",
    "            return l #>> check for terminal condition\n",
    "        mid = (l+r)//2\n",
    "        if nums[mid]< target: # * c2\n",
    "            return bin_search(mid+1,r)\n",
    "        else:\n",
    "             return bin_search(l,mid) #* \n",
    "    return bin_search(0, len(nums))\n"
   ]
  },
  {
   "cell_type": "code",
   "execution_count": null,
   "metadata": {},
   "outputs": [],
   "source": [
    "#recursion\n",
    "def factorial(n):\n",
    "    if n<0:\n",
    "        return print(\"invalid\")\n",
    "    elif n==0 or n==1:\n",
    "        return 1\n",
    "    else:\n",
    "        return f\"{n} *{factorial(n-1)}\"\n",
    "    \n",
    "N=5\n",
    "print(factorial(N))\n",
    "\n"
   ]
  },
  {
   "cell_type": "code",
   "execution_count": 3,
   "metadata": {},
   "outputs": [
    {
     "name": "stdout",
     "output_type": "stream",
     "text": [
      "[1, 3, 4, 5, 8, 11]\n"
     ]
    }
   ],
   "source": [
    "# merge sort\n",
    "from math import inf\n",
    "def merge(arr,l,m,r): #arr: whole array, l:left index\n",
    " #r: right index, m:index of the middle\n",
    "    n1 = m-l+1\n",
    "  #n1,n2 are lengths of the 2 subsequences\n",
    "    n2=r-m \n",
    "#create temp arrays:\n",
    "    L=[0]* n1\n",
    "    R=[0]*n2\n",
    "    #copy data to temp arrays\n",
    "    for i in range(n1):\n",
    "        L[i]=arr[l+i]\n",
    "    for j in range(n2):\n",
    "        R[j]=arr[m+1+j]\n",
    "    \n",
    "    L.append(inf)\n",
    "    R.append(inf)\n",
    "    i =0 \n",
    "    j=0\n",
    "    for k in range(l,r+1):\n",
    "        if L[i]<= R[j]:\n",
    "            arr[k]= L[i]\n",
    "            i+=1\n",
    "        else:\n",
    "            arr[k]= R[j]\n",
    "            j+=1\n",
    "\n",
    "def mergesort(arr,l,r):\n",
    "    if l<r:\n",
    "        m=int((l+r)/2)\n",
    "    # sort 1st & 2nd halves\n",
    "        mergesort(arr,l,m)\n",
    "        mergesort(arr,m+1,r)\n",
    "        merge(arr,l,m,r)\n",
    "\n",
    "arr=[4,1,8,11,3,5]\n",
    "l=0\n",
    "n= len(arr)\n",
    "mergesort(arr,l,n-1)\n",
    "print(arr)"
   ]
  },
  {
   "cell_type": "code",
   "execution_count": null,
   "metadata": {},
   "outputs": [],
   "source": [
    "#linked list interface\n",
    "from pprint import pprint\n",
    "#container interface\n",
    "lst_obj =list((1,2,3)) #instantiation\n",
    "print(len(lst_obj))# length\n",
    "#pprint(dir(lst_obj))\n",
    "#iterating interface\n",
    "for i in lst_obj:\n",
    "    print(i)\n",
    "#iter\n",
    "iter_lst_obj= iter(lst_obj)\n",
    "print(type(iter_lst_obj))\n",
    "#next\n",
    "while True:\n",
    "    try:\n",
    "        print(next(iter_lst_obj))\n",
    "    except StopIteration:\n",
    "        break\n",
    "#getitem >>[] this operator is accessing the element\n",
    "print(lst_obj[1]) # this known as operator overloading\n",
    "# setitem\n",
    "lst_obj[1]=20\n",
    "print(lst_obj[1])\n",
    "#dynamic operations\n",
    "lst_obj.insert(1,1.5)\n",
    "print(lst_obj)\n",
    "#del\n",
    "del lst_obj[2]\n",
    "print(\"after deletion\",lst_obj)\n",
    "lst_obj.append(100)\n",
    "print(lst_obj)"
   ]
  },
  {
   "cell_type": "code",
   "execution_count": null,
   "metadata": {},
   "outputs": [],
   "source": [
    "#stack\n",
    "stack=[]\n",
    "for element in range(5):\n",
    "    stack.append(element)\n",
    "print( (stack))\n",
    "popped_element=stack.pop()\n",
    "print( (popped_element))\n",
    "print(stack)\n",
    "last_element=stack[-1]\n",
    "print(last_element)\n",
    "print(stack)\n",
    "def has_element(stack):\n",
    "    return len(stack)>0\n",
    "has_elements= has_element(stack)\n",
    "print(\"does our stack have elements\" ,(has_elements))\n"
   ]
  },
  {
   "cell_type": "code",
   "execution_count": null,
   "metadata": {},
   "outputs": [],
   "source": [
    "#stack example\n",
    "def isClosing(bracket):\n",
    "    return bracket==\")\" or bracket==\"]\" or bracket==\"}\"\n",
    "def isMatch(b1,b2):\n",
    "    if b1==\"(\" :\n",
    "        return b2 ==\")\"\n",
    "    if b1 == \"[\":\n",
    "        return b2==\"]\"\n",
    "    if b1 ==\"{\":\n",
    "        return b2==\"}\"\n",
    "def isValid(s:str):\n",
    "    stack=[]\n",
    "    for b in s:\n",
    "        if isClosing(b):\n",
    "            if len(stack)==0:\n",
    "                return False\n",
    "            b2=stack.pop()\n",
    "            if not isMatch(b2,b):\n",
    "                return False\n",
    "        else:\n",
    "            stack.append(b)\n",
    "    if len(stack)==0:\n",
    "        return True\n",
    "    return False\n",
    "print(isValid(\"{}[]()({})\"))\n"
   ]
  },
  {
   "cell_type": "code",
   "execution_count": 1,
   "metadata": {},
   "outputs": [
    {
     "name": "stdout",
     "output_type": "stream",
     "text": [
      "[0, 1, 2, 3, 4]\n",
      "0\n",
      "[1, 2, 3, 4]\n"
     ]
    }
   ],
   "source": [
    "#queue\n",
    "queue=[]\n",
    "for element in range(5):\n",
    "    queue.append(element)\n",
    "print(queue) \n",
    "first_element= queue.pop(0)\n",
    "print(first_element)\n",
    "print(queue)"
   ]
  },
  {
   "cell_type": "markdown",
   "metadata": {},
   "source": [
    "### Bounus problems"
   ]
  },
  {
   "cell_type": "code",
   "execution_count": null,
   "metadata": {},
   "outputs": [],
   "source": [
    "#Avoiding recalculations in Tribonacci using dynamic programming\n",
    "\n",
    "def dpTribo(n,memo = {}):\n",
    "    if n in memo:\n",
    "        return memo[n]\n",
    "    if n == 0: return 0\n",
    "    if n == 1 or n == 2: return 1\n",
    "    memo[n] = dpTribo(n-1,memo)+dpTribo(n-2,memo)+dpTribo(n-3,memo)\n",
    "    return memo[n]"
   ]
  },
  {
   "cell_type": "code",
   "execution_count": null,
   "metadata": {},
   "outputs": [],
   "source": [
    "# mountain problem\n",
    "# getting the top of the mountain\n",
    "\n",
    "def mountainBinary(arr):\n",
    "    l,r = 0,len(arr)-1\n",
    "    while l < r:\n",
    "        mid = (l+r)//2\n",
    "        if arr[mid + 1] > arr[mid]:\n",
    "            l = mid + 1\n",
    "        else :\n",
    "            r = mid\n",
    "    return l\n",
    "\n",
    "print(mountainBinary([1,2,3,2,1])) "
   ]
  }
 ],
 "metadata": {
  "kernelspec": {
   "display_name": "Python 3",
   "language": "python",
   "name": "python3"
  },
  "language_info": {
   "codemirror_mode": {
    "name": "ipython",
    "version": 3
   },
   "file_extension": ".py",
   "mimetype": "text/x-python",
   "name": "python",
   "nbconvert_exporter": "python",
   "pygments_lexer": "ipython3",
   "version": "3.11.6"
  }
 },
 "nbformat": 4,
 "nbformat_minor": 2
}
